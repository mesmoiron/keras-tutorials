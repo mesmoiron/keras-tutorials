{
 "cells": [
  {
   "cell_type": "markdown",
   "metadata": {},
   "source": [
    "# Hand written digit classification with Keras"
   ]
  },
  {
   "cell_type": "markdown",
   "metadata": {},
   "source": [
    "MNIST is a dataset of 60,000 28x28 grayscale images of the 10 digits, along with a test set of 10,000 images.  \n",
    "\n",
    "This dataset is perfect for people who want to try machine learning techniques on real world data, with minimal effort. The digits have been isolated and the images have been scaled and centered. You can find more information about the MNIST dataset on the [MNIST official website](http://yann.lecun.com/exdb/mnist/).\n",
    "\n",
    "In this tutorial, we are using deep learning library [Keras](http://www.keras.io/) to classify those hand-written digits. The available classes are `0 1 2 3 4 5 6 7 8 9`.\n"
   ]
  },
  {
   "cell_type": "markdown",
   "metadata": {},
   "source": [
    "## 1. Load dependencies"
   ]
  },
  {
   "cell_type": "code",
   "execution_count": 81,
   "metadata": {
    "collapsed": true
   },
   "outputs": [],
   "source": [
    "%matplotlib inline\n",
    "import matplotlib.pyplot as plt\n",
    "import numpy as np\n",
    "np.random.seed(75)\n",
    "\n",
    "from keras.datasets import mnist\n",
    "from keras.models import Sequential\n",
    "from keras.layers.core import Dense, Dropout, Activation, Flatten\n",
    "from keras.layers.convolutional import Convolution2D, MaxPooling2D\n",
    "from keras.utils import np_utils\n",
    "from keras.optimizers import RMSprop"
   ]
  },
  {
   "cell_type": "markdown",
   "metadata": {},
   "source": [
    "## 2.  Load the dataset"
   ]
  },
  {
   "cell_type": "markdown",
   "metadata": {},
   "source": [
    "Keras has build-in functions for downloading some [well-known datasets](https://keras.io/datasets/).  \n",
    "At the moment of writing, there are two text dataset and three image datasets."
   ]
  },
  {
   "cell_type": "code",
   "execution_count": 82,
   "metadata": {
    "collapsed": false
   },
   "outputs": [],
   "source": [
    "(x_train, y_train), (x_test, y_test) = mnist.load_data()"
   ]
  },
  {
   "cell_type": "markdown",
   "metadata": {},
   "source": [
    "These are some of the training images "
   ]
  },
  {
   "cell_type": "code",
   "execution_count": 83,
   "metadata": {
    "collapsed": false
   },
   "outputs": [
    {
     "data": {
      "image/png": "[encoded data removed]",
      "text/plain": [
       "<matplotlib.figure.Figure at 0x7f2934c88278>"
      ]
     },
     "metadata": {},
     "output_type": "display_data"
    }
   ],
   "source": [
    "for i in range(9):\n",
    "    plt.subplot(3, 3, i+1)\n",
    "    plt.imshow(x_train[i], cmap='gray')\n",
    "    plt.axis(\"off\")"
   ]
  },
  {
   "cell_type": "markdown",
   "metadata": {
    "collapsed": true
   },
   "source": [
    "### Excercise 2.1 - Inspect the dataset\n",
    "1. X_train, y_train, X_test and y_test are matrices. What are the dimensions of these matrices?\n",
    "2. Can you explain where these numbers come from?\n",
    "3. Inspect the content of X_train and y_train\n",
    "\n",
    "### (Exercise 2.2 - Python functions)\n",
    "4.  Turn the code snippet for plotting into a function\n",
    "```\n",
    "def function(images, ncol=3)\n",
    "    \"\"\"Turns a list of matrices into a grid of heatmaps.\"\"\"\n",
    "```\n"
   ]
  },
  {
   "cell_type": "markdown",
   "metadata": {},
   "source": [
    "## 3. Design a deep neural network\n",
    "\n",
    "Representation learning is at the hard of deep learning: instead of crafting manual features, the network learns a representation of handwriting, that is disributed over several layers. The final layer uses the learnt by the previous layers to classify the image into one of 10 available categories. The layered structure is typical for neural networks, as layers can be conveniently trained with a [backpropagation](https://en.wikipedia.org/wiki/Backpropagation) algorithm. \n",
    "\n",
    "It is time to design a neural network architecture capable of learning a representation of the above images.\n",
    "We create a model with three dense layers and a dropout layer after the first two layers. \n",
    "\n",
    "\n",
    "\n",
    "https://github.com/fchollet/keras/blob/master/examples/mnist_mlp.py"
   ]
  },
  {
   "cell_type": "code",
   "execution_count": 84,
   "metadata": {
    "collapsed": false
   },
   "outputs": [],
   "source": [
    "model = Sequential()\n",
    "model.add(Dense(512, input_shape=(784,)))\n",
    "model.add(Activation('relu'))\n",
    "model.add(Dropout(0.2))\n",
    "model.add(Dense(256))\n",
    "model.add(Activation('relu'))\n",
    "model.add(Dropout(0.2))\n",
    "model.add(Dense(10))\n",
    "model.add(Activation('softmax'))"
   ]
  },
  {
   "cell_type": "code",
   "execution_count": 85,
   "metadata": {
    "collapsed": false
   },
   "outputs": [
    {
     "name": "stdout",
     "output_type": "stream",
     "text": [
      "____________________________________________________________________________________________________\n",
      "Layer (type)                     Output Shape          Param #     Connected to                     \n",
      "====================================================================================================\n",
      "dense_26 (Dense)                 (None, 512)           401920      dense_input_11[0][0]             \n",
      "____________________________________________________________________________________________________\n",
      "activation_24 (Activation)       (None, 512)           0           dense_26[0][0]                   \n",
      "____________________________________________________________________________________________________\n",
      "dropout_15 (Dropout)             (None, 512)           0           activation_24[0][0]              \n",
      "____________________________________________________________________________________________________\n",
      "dense_27 (Dense)                 (None, 256)           131328      dropout_15[0][0]                 \n",
      "____________________________________________________________________________________________________\n",
      "activation_25 (Activation)       (None, 256)           0           dense_27[0][0]                   \n",
      "____________________________________________________________________________________________________\n",
      "dropout_16 (Dropout)             (None, 256)           0           activation_25[0][0]              \n",
      "____________________________________________________________________________________________________\n",
      "dense_28 (Dense)                 (None, 10)            2570        dropout_16[0][0]                 \n",
      "____________________________________________________________________________________________________\n",
      "activation_26 (Activation)       (None, 10)            0           dense_28[0][0]                   \n",
      "====================================================================================================\n",
      "Total params: 535818\n",
      "____________________________________________________________________________________________________\n"
     ]
    }
   ],
   "source": [
    "model.summary()"
   ]
  },
  {
   "cell_type": "markdown",
   "metadata": {},
   "source": [
    "### Excercise 3.1 - Parameters\n",
    "1. How many parameters does each layer have?\n",
    "2. How many parameters has the dropout function?\n",
    "3. How many parameters has the model in total?\n",
    "4. What is the advantage of having many parameters?\n",
    "5. Can you see disadvantages of having many parameters?"
   ]
  },
  {
   "cell_type": "markdown",
   "metadata": {},
   "source": [
    "### Excercise 3.2 - Activation functions\n",
    "2. What is the role of an activation function?\n",
    "3. What does the relu activation function do?\n",
    "3. What other activation functions does Keras provide?\n",
    "4. What happens is you leave out the activation function?"
   ]
  },
  {
   "cell_type": "code",
   "execution_count": null,
   "metadata": {
    "collapsed": true
   },
   "outputs": [],
   "source": [
    "4. What happens is you leave out the activation function"
   ]
  },
  {
   "cell_type": "markdown",
   "metadata": {},
   "source": [
    "### Exercise 3.3 - Keras"
   ]
  },
  {
   "cell_type": "code",
   "execution_count": null,
   "metadata": {
    "collapsed": true
   },
   "outputs": [],
   "source": []
  },
  {
   "cell_type": "markdown",
   "metadata": {},
   "source": [
    "## Train the neural network\n",
    "\n",
    "Before we can train the model, we need to reshape and rescale the input. The re-shape is needed since keras expects one-dimensional input for dense layers. Without rescaling, the relu activation functions would be overstimulated, resulting in cell damage."
   ]
  },
  {
   "cell_type": "code",
   "execution_count": 91,
   "metadata": {
    "collapsed": false
   },
   "outputs": [],
   "source": [
    "Y_train = np_utils.to_categorical(y_train, nb_classes)\n",
    "Y_test = np_utils.to_categorical(y_test, nb_classes)\n",
    "\n",
    "X_train = flatten(x_train) / 255\n",
    "X_test = flatten(x_test) / 255"
   ]
  },
  {
   "cell_type": "code",
   "execution_count": 88,
   "metadata": {
    "collapsed": true
   },
   "outputs": [],
   "source": [
    "batch_size = 128\n",
    "nb_epoch = 20"
   ]
  },
  {
   "cell_type": "code",
   "execution_count": 92,
   "metadata": {
    "collapsed": false
   },
   "outputs": [
    {
     "name": "stdout",
     "output_type": "stream",
     "text": [
      "Train on 60000 samples, validate on 10000 samples\n",
      "Epoch 1/20\n",
      "60000/60000 [==============================] - 8s - loss: 0.2610 - acc: 0.9196 - val_loss: 0.1111 - val_acc: 0.9641\n",
      "Epoch 2/20\n",
      "60000/60000 [==============================] - 9s - loss: 0.1076 - acc: 0.9670 - val_loss: 0.0815 - val_acc: 0.9758\n",
      "Epoch 3/20\n",
      "60000/60000 [==============================] - 9s - loss: 0.0770 - acc: 0.9764 - val_loss: 0.0762 - val_acc: 0.9773\n",
      "Epoch 4/20\n",
      "60000/60000 [==============================] - 10s - loss: 0.0641 - acc: 0.9809 - val_loss: 0.0675 - val_acc: 0.9810\n",
      "Epoch 5/20\n",
      "60000/60000 [==============================] - 10s - loss: 0.0519 - acc: 0.9842 - val_loss: 0.0761 - val_acc: 0.9805\n",
      "Epoch 6/20\n",
      "60000/60000 [==============================] - 10s - loss: 0.0440 - acc: 0.9867 - val_loss: 0.0765 - val_acc: 0.9800\n",
      "Epoch 7/20\n",
      "60000/60000 [==============================] - 10s - loss: 0.0393 - acc: 0.9882 - val_loss: 0.0795 - val_acc: 0.9805\n",
      "Epoch 8/20\n",
      "60000/60000 [==============================] - 11s - loss: 0.0341 - acc: 0.9896 - val_loss: 0.0852 - val_acc: 0.9811\n",
      "Epoch 9/20\n",
      "60000/60000 [==============================] - 11s - loss: 0.0317 - acc: 0.9906 - val_loss: 0.0754 - val_acc: 0.9830\n",
      "Epoch 10/20\n",
      "60000/60000 [==============================] - 10s - loss: 0.0282 - acc: 0.9910 - val_loss: 0.0897 - val_acc: 0.9810\n",
      "Epoch 11/20\n",
      "60000/60000 [==============================] - 11s - loss: 0.0274 - acc: 0.9922 - val_loss: 0.0925 - val_acc: 0.9810\n",
      "Epoch 12/20\n",
      "60000/60000 [==============================] - 11s - loss: 0.0253 - acc: 0.9925 - val_loss: 0.0974 - val_acc: 0.9815\n",
      "Epoch 13/20\n",
      "60000/60000 [==============================] - 11s - loss: 0.0233 - acc: 0.9933 - val_loss: 0.0859 - val_acc: 0.9839\n",
      "Epoch 14/20\n",
      "60000/60000 [==============================] - 11s - loss: 0.0235 - acc: 0.9931 - val_loss: 0.1018 - val_acc: 0.9802\n",
      "Epoch 15/20\n",
      "60000/60000 [==============================] - 11s - loss: 0.0219 - acc: 0.9936 - val_loss: 0.0966 - val_acc: 0.9835\n",
      "Epoch 16/20\n",
      "60000/60000 [==============================] - 12s - loss: 0.0219 - acc: 0.9940 - val_loss: 0.1016 - val_acc: 0.9820\n",
      "Epoch 17/20\n",
      "60000/60000 [==============================] - 11s - loss: 0.0194 - acc: 0.9947 - val_loss: 0.1098 - val_acc: 0.9822\n",
      "Epoch 18/20\n",
      "60000/60000 [==============================] - 12s - loss: 0.0176 - acc: 0.9953 - val_loss: 0.1039 - val_acc: 0.9828\n",
      "Epoch 19/20\n",
      "60000/60000 [==============================] - 11s - loss: 0.0173 - acc: 0.9951 - val_loss: 0.0996 - val_acc: 0.9849\n",
      "Epoch 20/20\n",
      "60000/60000 [==============================] - 11s - loss: 0.0191 - acc: 0.9948 - val_loss: 0.1133 - val_acc: 0.9825\n"
     ]
    }
   ],
   "source": [
    "model.compile(loss='categorical_crossentropy',\n",
    "              optimizer=RMSprop(),\n",
    "              metrics=['accuracy'])\n",
    "\n",
    "history = model.fit(X_train, Y_train,\n",
    "                    batch_size=batch_size, nb_epoch=nb_epoch,\n",
    "                    verbose=1, validation_data=(X_test, Y_test))\n",
    "score = model.evaluate(X_test, Y_test, verbose=0)"
   ]
  },
  {
   "cell_type": "markdown",
   "metadata": {},
   "source": [
    "### Exercise 3.1 - Batches and Epochs\n",
    "1. The batch size is set to 128. What does this mean?\n",
    "2. The number of epochs is 20. What does that mean?"
   ]
  },
  {
   "cell_type": "code",
   "execution_count": null,
   "metadata": {
    "collapsed": true
   },
   "outputs": [],
   "source": []
  }
 ],
 "metadata": {
  "anaconda-cloud": {},
  "kernelspec": {
   "display_name": "Python [Root]",
   "language": "python",
   "name": "Python [Root]"
  },
  "language_info": {
   "codemirror_mode": {
    "name": "ipython",
    "version": 3
   },
   "file_extension": ".py",
   "mimetype": "text/x-python",
   "name": "python",
   "nbconvert_exporter": "python",
   "pygments_lexer": "ipython3",
   "version": "3.5.2"
  }
 },
 "nbformat": 4,
 "nbformat_minor": 0
}
